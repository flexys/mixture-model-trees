{
 "cells": [
  {
   "cell_type": "code",
   "execution_count": null,
   "metadata": {
    "scrolled": true
   },
   "outputs": [],
   "source": [
    "\n",
    "\n",
    "import modelling.makeData as md\n",
    "import modelling.experiment as experiment"
   ]
  },
  {
   "cell_type": "code",
   "execution_count": null,
   "metadata": {},
   "outputs": [],
   "source": [
    "# Set up logger\n",
    "logfile = \"logfile.txt\"\n",
    "\n",
    "def writelog(theString=None):\n",
    "    with open(logfile,'a') as f:\n",
    "        f.write(theString + '\\n')\n",
    "        f.close()\n",
    "    print(theString)"
   ]
  },
  {
   "cell_type": "code",
   "execution_count": null,
   "metadata": {},
   "outputs": [],
   "source": [
    "import importlib\n",
    "importlib.reload(experiment)\n",
    "importlib.reload(md)"
   ]
  },
  {
   "cell_type": "markdown",
   "metadata": {},
   "source": [
    "## Run experiments"
   ]
  },
  {
   "cell_type": "code",
   "execution_count": null,
   "metadata": {
    "tags": []
   },
   "outputs": [],
   "source": [
    "#algorithms = ('flexmix','recursive','LocalSearch', 'EA')\n",
    "methods = [1,3]#[0,1,2,3]\n",
    "\n",
    "#problems = ['twoSpikeTwoClass','twoClassBinomial']#,'twoClassNativeBinomial']\n",
    "#problems = ['twoClassNativeBinomial']\n",
    "#problems= ['twoSpikeTwoClass05','twoClassBinomial05','twoSpikeTwoClass10','twoClassBinomial10']\n",
    "#problems= ['twoSpikeTwoClass00','twoClassBinomial00','twoSpikeTwoClass08','twoClassBinomial10']\n",
    "#problems=['CaseStudy']\n",
    "\n",
    "problems= [\"twoSpikeTwoClass00\", \"twoClassBinomial00\" ]\n",
    "basenames= ['twoSpikeTwoClass','twoClassBinomial']\n",
    "extensions= [\"01\",\"02\",\"03\",\"04\",\"05\",\"06\",\"08\",\"10\",\"15\",\"20\"]\n",
    "\n",
    "for base in basenames:\n",
    "    for extension in extensions:\n",
    "        newprob= base+extension\n",
    "        problems.append(newprob )\n",
    "\n",
    "runParallel = True\n",
    "testing = False\n",
    "verbose= False\n",
    "fit_models = False\n",
    "thepath = \"\"\n",
    "\n",
    "\n",
    "for problem in problems:\n",
    "    for fit_models in ['False']:#(True, False):\n",
    "        print(f\"prob {problem} fit {fit_models} \")\n",
    "        thisExperiment = experiment.experiment()\n",
    "        thisExperiment.setUpExp(problem,testing)\n",
    "        thisExperiment.setUpAlgorithms(fit_models,verbose)\n",
    "        if(problem=='CaseStudy'):\n",
    "            thisExperiment.runCaseStudy(runParallel, methods)\n",
    "        else:\n",
    "            thisExperiment.runExp(runParallel,methods)\n",
    "    "
   ]
  }
 ],
 "metadata": {
  "interpreter": {
   "hash": "aee8b7b246df8f9039afb4144a1f6fd8d2ca17a180786b69acc140d282b71a49"
  },
  "kernelspec": {
   "display_name": "Python 3",
   "language": "python",
   "name": "python3"
  },
  "language_info": {
   "codemirror_mode": {
    "name": "ipython",
    "version": 3
   },
   "file_extension": ".py",
   "mimetype": "text/x-python",
   "name": "python",
   "nbconvert_exporter": "python",
   "pygments_lexer": "ipython3",
   "version": "3.7.5"
  },
  "toc": {
   "base_numbering": 1,
   "nav_menu": {},
   "number_sections": true,
   "sideBar": true,
   "skip_h1_title": false,
   "title_cell": "Table of Contents",
   "title_sidebar": "Contents",
   "toc_cell": false,
   "toc_position": {},
   "toc_section_display": true,
   "toc_window_display": false
  }
 },
 "nbformat": 4,
 "nbformat_minor": 4
}
